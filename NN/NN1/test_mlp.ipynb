import numpy as np

# Test random_init function
X = np.array([1, 2, 3, 4, 5])
layers = [{'output_dim': 3}, {'output_dim': 2}, {'output_dim': 1}]
weights, biases = random_init(layers, X)

# Check if the number of weight matrices and bias matrices match the number of layers
assert len(weights) == len(layers)
assert len(biases) == len(layers)

# Check if the dimensions of weight matrices and bias matrices are correct
for i, layer in enumerate(layers):
    assert weights[i].shape == (layer['output_dim'], X.shape[0])
    assert biases[i].shape == (layer['output_dim'], 1)

print("All tests passed!")